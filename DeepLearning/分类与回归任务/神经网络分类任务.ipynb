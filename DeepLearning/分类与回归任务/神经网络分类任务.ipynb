{
 "cells": [
  {
   "cell_type": "code",
   "execution_count": 4,
   "id": "initial_id",
   "metadata": {
    "collapsed": true,
    "ExecuteTime": {
     "end_time": "2023-09-27T02:13:01.904314400Z",
     "start_time": "2023-09-27T02:13:00.180533Z"
    }
   },
   "outputs": [],
   "source": [
    "from pathlib import Path\n",
    "import requests\n",
    "\n",
    "DATA_PATH = Path(\"D:\\AI\\神经网络实战分类与回归任务\\data\")\n",
    "PATH = DATA_PATH / \"mnist\"\n",
    "\n",
    "PATH.mkdir(parents=True, exist_ok=True)\n",
    "\n",
    "URL = \"http://deeplearning.net/data/mnist/\"\n",
    "FILENAME = \"mnist.pkl.gz\"\n",
    "\n",
    "if not (PATH / FILENAME).exists():\n",
    "    content = requests.get(URL + FILENAME).content\n",
    "    (PATH / FILENAME).open(\"wb\").write(content)\n",
    "\n",
    "import pickle\n",
    "import gzip\n",
    "\n",
    "with gzip.open((PATH / FILENAME).as_posix(), \"rb\") as f:\n",
    "    ((x_train, y_train), (x_valid, y_valid), _) = pickle.load(f, encoding=\"latin-1\")"
   ]
  },
  {
   "cell_type": "markdown",
   "source": [
    "784是mnist数据集每个样本的像素点个数"
   ],
   "metadata": {
    "collapsed": false
   },
   "id": "17f6d491171fe68d"
  },
  {
   "cell_type": "code",
   "execution_count": 5,
   "outputs": [
    {
     "name": "stdout",
     "output_type": "stream",
     "text": [
      "(50000, 784)\n"
     ]
    },
    {
     "data": {
      "text/plain": "<Figure size 640x480 with 1 Axes>",
      "image/png": "[encoded data removed]"
     },
     "metadata": {},
     "output_type": "display_data"
    }
   ],
   "source": [
    "from matplotlib import pyplot\n",
    "import numpy as np\n",
    "\n",
    "pyplot.imshow(x_train[0].reshape((28, 28)), cmap=\"gray\")\n",
    "print(x_train.shape)\n"
   ],
   "metadata": {
    "collapsed": false,
    "ExecuteTime": {
     "end_time": "2023-09-27T02:13:07.795803600Z",
     "start_time": "2023-09-27T02:13:06.714679700Z"
    }
   },
   "id": "da4bacf3d2c68fa0"
  },
  {
   "cell_type": "markdown",
   "source": [
    "注意数据需转换成tensor才能参与后续建模训练"
   ],
   "metadata": {
    "collapsed": false
   },
   "id": "ce76660c4434f5d"
  },
  {
   "cell_type": "code",
   "execution_count": 6,
   "outputs": [
    {
     "data": {
      "text/plain": "(tensor([[0., 0., 0.,  ..., 0., 0., 0.],\n         [0., 0., 0.,  ..., 0., 0., 0.],\n         [0., 0., 0.,  ..., 0., 0., 0.],\n         ...,\n         [0., 0., 0.,  ..., 0., 0., 0.],\n         [0., 0., 0.,  ..., 0., 0., 0.],\n         [0., 0., 0.,  ..., 0., 0., 0.]]),\n torch.Size([50000, 784]),\n tensor(0),\n tensor(9))"
     },
     "execution_count": 6,
     "metadata": {},
     "output_type": "execute_result"
    }
   ],
   "source": [
    "import torch\n",
    "\n",
    "x_train, y_train, x_valid, y_valid = map(\n",
    "    torch.tensor, (x_train, y_train, x_valid, y_valid)\n",
    ")\n",
    "n, c = x_train.shape\n",
    "x_train, x_train.shape, y_train.min(), y_train.max()\n"
   ],
   "metadata": {
    "collapsed": false,
    "ExecuteTime": {
     "end_time": "2023-09-27T02:13:10.469061600Z",
     "start_time": "2023-09-27T02:13:10.272749Z"
    }
   },
   "id": "58cef7779ba0f94b"
  },
  {
   "cell_type": "markdown",
   "source": [
    "torch.nn.functional 很多层和函数在这里都会见到\n",
    "torch.nn.functional中有很多功能，后续会常用的。那什么时候使用nn.Module，什么时候使用nn.functional呢？一般情况下，如果模型有可学习的参数，最好用nn.Module，其他情况nn.functional相对更简单一些"
   ],
   "metadata": {
    "collapsed": false
   },
   "id": "c1ec91e1af537837"
  },
  {
   "cell_type": "code",
   "execution_count": 7,
   "outputs": [],
   "source": [
    "import torch.nn.functional as F\n",
    "\n",
    "loss_func = F.cross_entropy\n",
    "\n",
    "\n",
    "def model(xb):\n",
    "    return xb.mm(weights) + bias"
   ],
   "metadata": {
    "collapsed": false,
    "ExecuteTime": {
     "end_time": "2023-09-27T02:13:15.155527400Z",
     "start_time": "2023-09-27T02:13:15.123852400Z"
    }
   },
   "id": "19f4eeea2d5b71c0"
  },
  {
   "cell_type": "code",
   "execution_count": 8,
   "outputs": [
    {
     "name": "stdout",
     "output_type": "stream",
     "text": [
      "tensor(14.9391, grad_fn=<NllLossBackward0>)\n"
     ]
    }
   ],
   "source": [
    "bs = 64\n",
    "xb = x_train[0:bs]\n",
    "yb = y_train[0:bs]\n",
    "weights = torch.randn([784, 10], dtype=torch.float, requires_grad=True)\n",
    "bias = torch.zeros(10, requires_grad=True)\n",
    "\n",
    "print(loss_func(model(xb), yb))"
   ],
   "metadata": {
    "collapsed": false,
    "ExecuteTime": {
     "end_time": "2023-09-27T02:13:17.705256900Z",
     "start_time": "2023-09-27T02:13:17.640843600Z"
    }
   },
   "id": "985c971c16030006"
  },
  {
   "cell_type": "markdown",
   "source": [
    "创建一个model来更简化代码\n",
    "- 必须继承nn.Module且在其构造函数中需调用nn.Module的构造函数\n",
    "- 无需写反向传播函数，nn.Module能够利用autograd自动实现反向传播\n",
    "- Module中的可学习参数可以通过named_parameters()或者parameters()返回迭代器"
   ],
   "metadata": {
    "collapsed": false
   },
   "id": "8764131e6646e3c4"
  },
  {
   "cell_type": "code",
   "execution_count": 9,
   "outputs": [
    {
     "name": "stdout",
     "output_type": "stream",
     "text": [
      "Mnist_NN(\n",
      "  (hidden1): Linear(in_features=784, out_features=128, bias=True)\n",
      "  (hidden2): Linear(in_features=128, out_features=256, bias=True)\n",
      "  (out): Linear(in_features=256, out_features=10, bias=True)\n",
      ")\n"
     ]
    }
   ],
   "source": [
    "from torch import nn\n",
    "\n",
    "\n",
    "class Mnist_NN(nn.Module):\n",
    "    def __init__(self):\n",
    "        super().__init__()\n",
    "        self.hidden1 = nn.Linear(784, 128)\n",
    "        self.hidden2 = nn.Linear(128, 256)\n",
    "        self.out = nn.Linear(256, 10)\n",
    "\n",
    "    def forward(self, x):\n",
    "        x = F.relu(self.hidden1(x))\n",
    "        x = F.relu(self.hidden2(x))\n",
    "        x = self.out(x)\n",
    "        return x\n",
    "\n",
    "\n",
    "net = Mnist_NN()\n",
    "print(net)"
   ],
   "metadata": {
    "collapsed": false,
    "ExecuteTime": {
     "end_time": "2023-09-27T02:54:45.529852Z",
     "start_time": "2023-09-27T02:54:45.446194300Z"
    }
   },
   "id": "440c6e1053e7850d"
  },
  {
   "cell_type": "code",
   "execution_count": 10,
   "outputs": [
    {
     "name": "stdout",
     "output_type": "stream",
     "text": [
      "hidden1.weight Parameter containing:\n",
      "tensor([[-0.0338, -0.0320, -0.0278,  ...,  0.0111, -0.0286, -0.0191],\n",
      "        [ 0.0234,  0.0019, -0.0166,  ..., -0.0298,  0.0082, -0.0304],\n",
      "        [-0.0194, -0.0209,  0.0222,  ..., -0.0304,  0.0354,  0.0333],\n",
      "        ...,\n",
      "        [-0.0254,  0.0085, -0.0264,  ...,  0.0212, -0.0356, -0.0136],\n",
      "        [ 0.0196, -0.0053,  0.0057,  ..., -0.0315,  0.0153, -0.0269],\n",
      "        [ 0.0289, -0.0211,  0.0041,  ..., -0.0347,  0.0039, -0.0225]],\n",
      "       requires_grad=True) torch.Size([128, 784])\n",
      "hidden1.bias Parameter containing:\n",
      "tensor([ 0.0056, -0.0133,  0.0246,  0.0280, -0.0197, -0.0164, -0.0253, -0.0213,\n",
      "         0.0263, -0.0241,  0.0073, -0.0032,  0.0162,  0.0138,  0.0073,  0.0262,\n",
      "         0.0057,  0.0235,  0.0059,  0.0348,  0.0101,  0.0301, -0.0200, -0.0212,\n",
      "         0.0319,  0.0046,  0.0305, -0.0276,  0.0082,  0.0134,  0.0203,  0.0016,\n",
      "         0.0027, -0.0145,  0.0196,  0.0320,  0.0030,  0.0199, -0.0304, -0.0199,\n",
      "         0.0097, -0.0140, -0.0297,  0.0066, -0.0222,  0.0207,  0.0012,  0.0069,\n",
      "        -0.0147, -0.0104, -0.0297,  0.0122,  0.0018,  0.0203,  0.0254,  0.0288,\n",
      "        -0.0040, -0.0042, -0.0146, -0.0102, -0.0189,  0.0107, -0.0332, -0.0220,\n",
      "         0.0230,  0.0003, -0.0069, -0.0203,  0.0346,  0.0079,  0.0312, -0.0132,\n",
      "        -0.0093, -0.0089, -0.0050,  0.0110, -0.0165, -0.0352, -0.0337,  0.0286,\n",
      "         0.0109, -0.0116,  0.0289, -0.0204,  0.0026, -0.0041,  0.0193,  0.0294,\n",
      "        -0.0351,  0.0091,  0.0081, -0.0067, -0.0004, -0.0284,  0.0236, -0.0197,\n",
      "        -0.0134, -0.0174, -0.0326, -0.0278, -0.0200, -0.0154,  0.0002,  0.0155,\n",
      "         0.0270, -0.0072, -0.0312,  0.0179, -0.0117, -0.0017, -0.0287, -0.0093,\n",
      "         0.0244, -0.0083, -0.0215, -0.0356,  0.0285,  0.0142, -0.0027, -0.0331,\n",
      "        -0.0344, -0.0095, -0.0030, -0.0150, -0.0199, -0.0313, -0.0092, -0.0331],\n",
      "       requires_grad=True) torch.Size([128])\n",
      "hidden2.weight Parameter containing:\n",
      "tensor([[ 0.0597,  0.0429,  0.0539,  ...,  0.0153, -0.0805, -0.0542],\n",
      "        [ 0.0324,  0.0464, -0.0546,  ...,  0.0762, -0.0788,  0.0390],\n",
      "        [-0.0185, -0.0396, -0.0214,  ..., -0.0662, -0.0740,  0.0192],\n",
      "        ...,\n",
      "        [ 0.0536,  0.0134, -0.0557,  ..., -0.0340, -0.0197, -0.0848],\n",
      "        [-0.0574,  0.0044,  0.0061,  ...,  0.0631, -0.0725, -0.0260],\n",
      "        [ 0.0636, -0.0545,  0.0508,  ...,  0.0866,  0.0323, -0.0548]],\n",
      "       requires_grad=True) torch.Size([256, 128])\n",
      "hidden2.bias Parameter containing:\n",
      "tensor([ 0.0735, -0.0326,  0.0800,  0.0303,  0.0341,  0.0028, -0.0725,  0.0668,\n",
      "         0.0628,  0.0827,  0.0273,  0.0429,  0.0227,  0.0659,  0.0511, -0.0786,\n",
      "        -0.0236, -0.0811, -0.0568,  0.0743, -0.0453,  0.0787,  0.0861, -0.0387,\n",
      "        -0.0512,  0.0806, -0.0790, -0.0568, -0.0112, -0.0634, -0.0702, -0.0249,\n",
      "         0.0037,  0.0768,  0.0600,  0.0601,  0.0389,  0.0402, -0.0664, -0.0400,\n",
      "        -0.0720, -0.0245, -0.0023,  0.0290,  0.0356, -0.0139,  0.0498,  0.0039,\n",
      "         0.0075,  0.0379, -0.0302, -0.0306,  0.0299,  0.0462,  0.0237,  0.0344,\n",
      "         0.0402, -0.0061,  0.0273,  0.0242, -0.0747,  0.0272,  0.0283,  0.0769,\n",
      "        -0.0492, -0.0543, -0.0852, -0.0075,  0.0386, -0.0707,  0.0255, -0.0862,\n",
      "         0.0005, -0.0080, -0.0094, -0.0863, -0.0629, -0.0355,  0.0119,  0.0852,\n",
      "         0.0580,  0.0537, -0.0508, -0.0076, -0.0300,  0.0314,  0.0733,  0.0587,\n",
      "        -0.0392, -0.0197,  0.0644,  0.0026,  0.0686, -0.0166,  0.0724, -0.0549,\n",
      "        -0.0348,  0.0775, -0.0473, -0.0521,  0.0454,  0.0703, -0.0433,  0.0119,\n",
      "         0.0404,  0.0637,  0.0270, -0.0127, -0.0878,  0.0329, -0.0789, -0.0120,\n",
      "        -0.0038,  0.0821, -0.0519,  0.0726,  0.0383, -0.0380,  0.0481,  0.0776,\n",
      "        -0.0801,  0.0002, -0.0733,  0.0868, -0.0375, -0.0669,  0.0147, -0.0257,\n",
      "         0.0757,  0.0484,  0.0547,  0.0208,  0.0451, -0.0882,  0.0603, -0.0493,\n",
      "         0.0636, -0.0396, -0.0007, -0.0032, -0.0858,  0.0168, -0.0622,  0.0639,\n",
      "        -0.0835, -0.0628,  0.0496, -0.0243,  0.0037,  0.0780,  0.0232, -0.0142,\n",
      "         0.0416,  0.0350,  0.0307, -0.0592,  0.0381, -0.0079, -0.0316, -0.0596,\n",
      "         0.0526, -0.0757, -0.0406, -0.0058, -0.0176, -0.0141,  0.0837,  0.0028,\n",
      "         0.0546,  0.0185, -0.0084, -0.0655,  0.0515,  0.0344, -0.0578,  0.0492,\n",
      "        -0.0707,  0.0222,  0.0373,  0.0793, -0.0729, -0.0668, -0.0851, -0.0213,\n",
      "         0.0464, -0.0295, -0.0748, -0.0037,  0.0824,  0.0480, -0.0022,  0.0506,\n",
      "        -0.0590, -0.0808, -0.0187, -0.0534,  0.0421,  0.0156, -0.0512,  0.0111,\n",
      "         0.0863, -0.0756,  0.0157,  0.0223, -0.0094, -0.0611, -0.0679,  0.0463,\n",
      "         0.0254, -0.0126, -0.0466, -0.0038,  0.0036,  0.0264, -0.0139,  0.0585,\n",
      "         0.0627, -0.0299, -0.0111, -0.0017,  0.0640,  0.0568, -0.0806, -0.0549,\n",
      "        -0.0576,  0.0295, -0.0322,  0.0746,  0.0322,  0.0161, -0.0492, -0.0828,\n",
      "        -0.0074, -0.0141, -0.0221, -0.0568,  0.0788, -0.0612,  0.0225, -0.0292,\n",
      "        -0.0325, -0.0223,  0.0680, -0.0181,  0.0383, -0.0855,  0.0393,  0.0023,\n",
      "        -0.0030, -0.0582, -0.0329, -0.0463, -0.0289, -0.0761,  0.0046, -0.0485],\n",
      "       requires_grad=True) torch.Size([256])\n",
      "out.weight Parameter containing:\n",
      "tensor([[ 5.6806e-02, -3.6985e-02,  9.7539e-03,  ..., -4.0371e-03,\n",
      "         -1.1365e-02,  2.3121e-02],\n",
      "        [-3.9466e-02, -3.0939e-02, -2.2326e-03,  ...,  2.3420e-02,\n",
      "          2.6918e-02,  5.9813e-02],\n",
      "        [ 4.1281e-02,  2.3869e-02, -2.1066e-02,  ...,  5.7907e-02,\n",
      "          1.7886e-02, -5.7284e-02],\n",
      "        ...,\n",
      "        [ 3.8808e-02, -6.5658e-04, -6.0306e-02,  ...,  3.8497e-05,\n",
      "         -3.2160e-02,  4.8866e-02],\n",
      "        [-3.0737e-02, -3.7519e-02, -4.0381e-03,  ...,  4.0175e-02,\n",
      "          2.2640e-02,  1.6597e-02],\n",
      "        [ 5.8139e-02, -2.4263e-02,  5.9724e-03,  ...,  4.5139e-02,\n",
      "          3.0974e-02,  5.3843e-02]], requires_grad=True) torch.Size([10, 256])\n",
      "out.bias Parameter containing:\n",
      "tensor([-0.0089,  0.0019,  0.0397,  0.0047,  0.0388, -0.0608,  0.0134, -0.0416,\n",
      "        -0.0259, -0.0487], requires_grad=True) torch.Size([10])\n"
     ]
    }
   ],
   "source": [
    "for name, parameter in net.named_parameters():\n",
    "    print(name, parameter, parameter.size())"
   ],
   "metadata": {
    "collapsed": false,
    "ExecuteTime": {
     "end_time": "2023-09-27T03:00:16.364948400Z",
     "start_time": "2023-09-27T03:00:16.289651800Z"
    }
   },
   "id": "8c9ee60c29b9504a"
  },
  {
   "cell_type": "markdown",
   "source": [
    "使用TensorDataset和DataLoader来简"
   ],
   "metadata": {
    "collapsed": false
   },
   "id": "f83b6bd8e58b26ac"
  },
  {
   "cell_type": "code",
   "execution_count": 11,
   "outputs": [],
   "source": [
    "from torch.utils.data import TensorDataset\n",
    "from torch.utils.data import DataLoader\n",
    "\n",
    "train_ds = TensorDataset(x_train, y_train)\n",
    "valid_ds = TensorDataset(x_valid, y_valid)\n",
    "\n",
    "\n",
    "def get_data(train_ds, valid_ds, bs):\n",
    "    return (\n",
    "        DataLoader(train_ds, batch_size=bs, shuffle=True),\n",
    "        DataLoader(valid_ds, batch_size=bs * 2),\n",
    "    )\n"
   ],
   "metadata": {
    "collapsed": false,
    "ExecuteTime": {
     "end_time": "2023-09-27T06:31:09.032485200Z",
     "start_time": "2023-09-27T06:31:09.021487300Z"
    }
   },
   "id": "c4022c291c579850"
  },
  {
   "cell_type": "markdown",
   "source": [
    "- 一般在训练模型时加上model.train()，这样会正常使用Batch Normalization和 Dropout\n",
    "- 测试的时候一般选择model.eval()，这样就不会使用Batch Normalization和 Dropout"
   ],
   "metadata": {
    "collapsed": false
   },
   "id": "ea7b400d9c9264d6"
  },
  {
   "cell_type": "code",
   "execution_count": 12,
   "outputs": [],
   "source": [
    "import numpy as np\n",
    "\n",
    "\n",
    "def loss_batch(model, loss_func, xb, yb, opt=None):\n",
    "    loss = loss_func(model(xb), yb)\n",
    "\n",
    "    if opt is not None:\n",
    "        loss.backward()\n",
    "        opt.step()\n",
    "        opt.zero_grad()\n",
    "\n",
    "    return loss.item(), len(xb)\n",
    "\n",
    "\n",
    "def fit(steps, model, loss_func, opt, train_dl, valid_dl):\n",
    "    for step in range(steps):\n",
    "        model.train()\n",
    "        for xb, yb in train_dl:\n",
    "            loss_batch(model, loss_func, xb, yb, opt)\n",
    "\n",
    "        model.eval()\n",
    "        with torch.no_grad():\n",
    "            losses, nums = zip(\n",
    "                *[loss_batch(model, loss_func, xb, yb) for xb, yb in valid_dl]\n",
    "            )\n",
    "\n",
    "        val_loss = np.sum(np.multiply(losses, nums)) / np.sum(nums)\n",
    "        print('当前step:' + str(step), '验证集损失：' + str(val_loss))"
   ],
   "metadata": {
    "collapsed": false,
    "ExecuteTime": {
     "end_time": "2023-09-27T06:31:12.208944600Z",
     "start_time": "2023-09-27T06:31:12.184987500Z"
    }
   },
   "id": "2cec29cd8959f3f6"
  },
  {
   "cell_type": "code",
   "execution_count": 13,
   "outputs": [],
   "source": [
    "from torch import optim\n",
    "\n",
    "\n",
    "def get_model():\n",
    "    model = Mnist_NN()\n",
    "    return model, optim.SGD(model.parameters(), lr=0.001)"
   ],
   "metadata": {
    "collapsed": false,
    "ExecuteTime": {
     "end_time": "2023-09-27T06:31:15.112275200Z",
     "start_time": "2023-09-27T06:31:15.082638300Z"
    }
   },
   "id": "1e9f772747395516"
  },
  {
   "cell_type": "code",
   "execution_count": 14,
   "outputs": [
    {
     "name": "stdout",
     "output_type": "stream",
     "text": [
      "当前step:0 验证集损失：2.2788107345581055\n",
      "当前step:1 验证集损失：2.2459096076965333\n",
      "当前step:2 验证集损失：2.194839797973633\n",
      "当前step:3 验证集损失：2.1110693035125734\n",
      "当前step:4 验证集损失：1.9735412372589112\n",
      "当前step:5 验证集损失：1.76572336063385\n",
      "当前step:6 验证集损失：1.5013155405044556\n",
      "当前step:7 验证集损失：1.235018564224243\n",
      "当前step:8 验证集损失：1.0191831329345704\n",
      "当前step:9 验证集损失：0.8622355289459228\n",
      "当前step:10 验证集损失：0.7513635157585145\n",
      "当前step:11 验证集损失：0.6717747295379639\n",
      "当前step:12 验证集损失：0.6122910155296326\n",
      "当前step:13 验证集损失：0.5670241856575012\n",
      "当前step:14 验证集损失：0.5317905701160431\n",
      "当前step:15 验证集损失：0.5026024229049683\n",
      "当前step:16 验证集损失：0.47855639362335206\n",
      "当前step:17 验证集损失：0.45873655767440796\n",
      "当前step:18 验证集损失：0.44151957988739016\n",
      "当前step:19 验证集损失：0.42745458011627196\n",
      "当前step:20 验证集损失：0.4143767005443573\n",
      "当前step:21 验证集损失：0.40335682253837585\n",
      "当前step:22 验证集损失：0.39313514273166655\n",
      "当前step:23 验证集损失：0.384419727563858\n",
      "当前step:24 验证集损失：0.37665460262298583\n"
     ]
    }
   ],
   "source": [
    "train_dl, valid_dl = get_data(train_ds, valid_ds, bs)\n",
    "model, opt = get_model()\n",
    "fit(25, model, loss_func, opt, train_dl, valid_dl)"
   ],
   "metadata": {
    "collapsed": false,
    "ExecuteTime": {
     "end_time": "2023-09-27T06:32:08.411402100Z",
     "start_time": "2023-09-27T06:31:17.058925100Z"
    }
   },
   "id": "2167a94842aaa03c"
  },
  {
   "cell_type": "code",
   "execution_count": null,
   "outputs": [],
   "source": [
    "  "
   ],
   "metadata": {
    "collapsed": false
   },
   "id": "31bd153819f15869"
  }
 ],
 "metadata": {
  "kernelspec": {
   "display_name": "Python 3",
   "language": "python",
   "name": "python3"
  },
  "language_info": {
   "codemirror_mode": {
    "name": "ipython",
    "version": 2
   },
   "file_extension": ".py",
   "mimetype": "text/x-python",
   "name": "python",
   "nbconvert_exporter": "python",
   "pygments_lexer": "ipython2",
   "version": "2.7.6"
  }
 },
 "nbformat": 4,
 "nbformat_minor": 5
}
